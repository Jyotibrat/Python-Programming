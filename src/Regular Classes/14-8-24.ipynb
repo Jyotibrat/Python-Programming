{
 "cells": [
  {
   "cell_type": "code",
   "execution_count": 1,
   "metadata": {},
   "outputs": [
    {
     "name": "stdout",
     "output_type": "stream",
     "text": [
      "Invalid password: Must be between 5 and 15 characters.\n"
     ]
    }
   ],
   "source": [
    "def check_password_validity(password):\n",
    "\n",
    "    has_lower = False\n",
    "    has_upper = False\n",
    "    has_digit = False\n",
    "    has_special_char = False\n",
    "    special_characters = \"$#@\"\n",
    "\n",
    "    if len(password) < 5 or len(password) > 15:\n",
    "        return \"Invalid password: Must be between 5 and 15 characters.\"\n",
    "\n",
    "    for char in password:\n",
    "        if char.islower():\n",
    "            has_lower = True\n",
    "        elif char.isupper():\n",
    "            has_upper = True\n",
    "        elif char.isdigit():\n",
    "            has_digit = True\n",
    "        elif char in special_characters:\n",
    "            has_special_char = True\n",
    "\n",
    "    if not has_lower:\n",
    "        return \"Invalid password: Must contain at least one lowercase letter [a-z].\"\n",
    "    if not has_upper:\n",
    "        return \"Invalid password: Must contain at least one uppercase letter [A-Z].\"\n",
    "    if not has_digit:\n",
    "        return \"Invalid password: Must contain at least one number [0-9].\"\n",
    "    if not has_special_char:\n",
    "        return \"Invalid password: Must contain at least one special character from [$#@].\"\n",
    "\n",
    "    return \"Valid password\"\n",
    "\n",
    "password = input(\"Enter your password: \")\n",
    "result = check_password_validity(password)\n",
    "print(result)"
   ]
  },
  {
   "cell_type": "code",
   "execution_count": 2,
   "metadata": {},
   "outputs": [
    {
     "name": "stdout",
     "output_type": "stream",
     "text": [
      "15\n"
     ]
    }
   ],
   "source": [
    "def evaluate_expression_1(Z):\n",
    "    Z = Z + 5 \n",
    "    def evaluate_expression_2(Z):\n",
    "        print('Hello')\n",
    "        return Z \n",
    "    return Z\n",
    "value = 10\n",
    "print(evaluate_expression_1(value)) "
   ]
  },
  {
   "cell_type": "code",
   "execution_count": 3,
   "metadata": {},
   "outputs": [
    {
     "name": "stdout",
     "output_type": "stream",
     "text": [
      "{'Mumbai': 765, 'Chennai': 850}\n"
     ]
    }
   ],
   "source": [
    "def main():\n",
    "    Average_Rainfall={}\n",
    "    Average_Rainfall['Mumbai']=765\n",
    "    Average_Rainfall['Chennai']=850\n",
    "    print(Average_Rainfall)\n",
    "main()"
   ]
  },
  {
   "cell_type": "code",
   "execution_count": null,
   "metadata": {},
   "outputs": [],
   "source": [
    "# Client - Server Program - Client\n",
    "import socket\n",
    "\n",
    "def start_client():\n",
    "    client_socket = socket.socket(socket.AF_INET, socket.SOCK_STREAM)\n",
    "\n",
    "    client_socket.connect(('localhost', 12345))\n",
    "\n",
    "    pangram = client_socket.recv(1024).decode()\n",
    "\n",
    "    print(f\"Received from server: {pangram}\")\n",
    "\n",
    "    client_socket.close()\n",
    "\n",
    "if __name__ == \"__main__\":\n",
    "    start_client()"
   ]
  },
  {
   "cell_type": "code",
   "execution_count": null,
   "metadata": {},
   "outputs": [],
   "source": [
    "# Client - Server Program - Server\n",
    "import socket\n",
    "\n",
    "def start_server():\n",
    "    server_socket = socket.socket(socket.AF_INET, socket.SOCK_STREAM)\n",
    "\n",
    "    server_socket.bind(('localhost', 12345))\n",
    "    \n",
    "    server_socket.listen(1)\n",
    "    print(\"Server is listening on port 12345...\")\n",
    "\n",
    "    conn, addr = server_socket.accept()\n",
    "    print(f\"Connected by {addr}\")\n",
    "\n",
    "    pangram = \"The quick brown fox jumps over the lazy dog\"\n",
    "    \n",
    "    conn.sendall(pangram.encode())\n",
    "\n",
    "    conn.close()\n",
    "\n",
    "if __name__ == \"__main__\":\n",
    "    start_server()"
   ]
  },
  {
   "cell_type": "code",
   "execution_count": 5,
   "metadata": {},
   "outputs": [
    {
     "name": "stdout",
     "output_type": "stream",
     "text": [
      "Inside inner_function: local\n",
      "Inside outer_function: enclosing\n",
      "In global scope: global\n"
     ]
    }
   ],
   "source": [
    "x = \"global\"\n",
    "\n",
    "def outer_function():\n",
    "    x = \"enclosing\"\n",
    "    \n",
    "    def inner_function():\n",
    "        x = \"local\"\n",
    "        print(\"Inside inner_function:\", x)\n",
    "    \n",
    "    inner_function()\n",
    "    print(\"Inside outer_function:\", x)\n",
    "\n",
    "outer_function()\n",
    "\n",
    "print(\"In global scope:\", x)"
   ]
  },
  {
   "cell_type": "code",
   "execution_count": 6,
   "metadata": {},
   "outputs": [
    {
     "name": "stdout",
     "output_type": "stream",
     "text": [
      "Designation = Manager , Salary =  25000\n"
     ]
    }
   ],
   "source": [
    "def Display(Designation, Salary):\n",
    "\n",
    "    print(\"Designation =\" , Designation, \", Salary = \",Salary)\n",
    "\n",
    "Display (\"Manager\", 25000)"
   ]
  }
 ],
 "metadata": {
  "kernelspec": {
   "display_name": "Python 3",
   "language": "python",
   "name": "python3"
  },
  "language_info": {
   "codemirror_mode": {
    "name": "ipython",
    "version": 3
   },
   "file_extension": ".py",
   "mimetype": "text/x-python",
   "name": "python",
   "nbconvert_exporter": "python",
   "pygments_lexer": "ipython3",
   "version": "3.12.5"
  }
 },
 "nbformat": 4,
 "nbformat_minor": 2
}
